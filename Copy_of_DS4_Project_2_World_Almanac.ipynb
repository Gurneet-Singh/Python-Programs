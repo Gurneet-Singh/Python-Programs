{
  "nbformat": 4,
  "nbformat_minor": 0,
  "metadata": {
    "colab": {
      "name": "Copy of DS4 Project 2: World Almanac",
      "provenance": [],
      "collapsed_sections": [],
      "include_colab_link": true
    },
    "kernelspec": {
      "name": "python3",
      "display_name": "Python 3"
    }
  },
  "cells": [
    {
      "cell_type": "markdown",
      "metadata": {
        "id": "view-in-github",
        "colab_type": "text"
      },
      "source": [
        "<a href=\"https://colab.research.google.com/github/Gurneet-Singh/Python-Programs/blob/main/Copy_of_DS4_Project_2_World_Almanac.ipynb\" target=\"_parent\"><img src=\"https://colab.research.google.com/assets/colab-badge.svg\" alt=\"Open In Colab\"/></a>"
      ]
    },
    {
      "cell_type": "markdown",
      "metadata": {
        "id": "ZW2s_a31KfbO"
      },
      "source": [
        "#<img src=\"https://static.junilearning.com/images/juni_logo.png\" height=75 align=center hspace=\"5px\"> **DS4 Project 2: World Almanac**"
      ]
    },
    {
      "cell_type": "markdown",
      "metadata": {
        "id": "mybUsUbVLwze"
      },
      "source": [
        "Let's create a guide for travelers containing important information about every country! Use the API (https://restcountries.eu/) to create a DataFrame with 4 columns (name, population, area, and population density). Begin by running an API request for all countries."
      ]
    },
    {
      "cell_type": "code",
      "metadata": {
        "id": "Jvirjy0OIkNu"
      },
      "source": [
        ""
      ],
      "execution_count": null,
      "outputs": []
    },
    {
      "cell_type": "markdown",
      "metadata": {
        "id": "5_dAzmjmR8u8"
      },
      "source": [
        "Now that we have information for every country, let's create 3 lists that hold the corresponding names, areas, and populations of every country. \n",
        "\n",
        "Then create another list that uses the populations and areas to hold the population density. Note: there are several \"area\" fields with the associated value None. Replace these with 0."
      ]
    },
    {
      "cell_type": "code",
      "metadata": {
        "id": "5uJvdosgUIBD"
      },
      "source": [
        ""
      ],
      "execution_count": null,
      "outputs": []
    },
    {
      "cell_type": "markdown",
      "metadata": {
        "id": "71vNLvWyfNtR"
      },
      "source": [
        "Now let's create a DataFrame from these lists. \n",
        "\n",
        "Hint: Start by creating a dictionary where the keys are column labels and the values are the actual columns. Then create a DataFrame using the dictionary. Set the `names` list as the index."
      ]
    },
    {
      "cell_type": "code",
      "metadata": {
        "id": "UozQCLAqiK-K"
      },
      "source": [
        ""
      ],
      "execution_count": null,
      "outputs": []
    },
    {
      "cell_type": "markdown",
      "metadata": {
        "id": "4v31gs_JjDyb"
      },
      "source": [
        "Now let's create another 5 lists, this time storing the currency symbol, timezone, country code (\"cioc\"), bordering countries, and capital. \n",
        "\n",
        "Hint: If there are multiple values, save them as a single String. Ex. store, \"borders\": [\"BRA\", \"ECU\", \"PAN\", \"PER\", \"VEN\"] as \"BRA ECU PAN PER VEN\""
      ]
    },
    {
      "cell_type": "code",
      "metadata": {
        "id": "TmjQPY_DjtxP"
      },
      "source": [
        ""
      ],
      "execution_count": null,
      "outputs": []
    },
    {
      "cell_type": "markdown",
      "metadata": {
        "id": "a0wuM2DZmjZc"
      },
      "source": [
        "Now let's combine this information into our current DataFrame.\n",
        "\n",
        "Hint: You can add a new column by using `df[\"columnLabel\"] = column`."
      ]
    },
    {
      "cell_type": "code",
      "metadata": {
        "id": "NcfeEuMNJ2Tr"
      },
      "source": [
        ""
      ],
      "execution_count": null,
      "outputs": []
    }
  ]
}
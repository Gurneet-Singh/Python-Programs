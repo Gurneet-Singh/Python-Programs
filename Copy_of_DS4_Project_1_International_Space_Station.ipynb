{
  "nbformat": 4,
  "nbformat_minor": 0,
  "metadata": {
    "colab": {
      "name": "Copy of DS4 Project 1: International Space Station",
      "provenance": [],
      "collapsed_sections": [],
      "include_colab_link": true
    },
    "kernelspec": {
      "name": "python3",
      "display_name": "Python 3"
    }
  },
  "cells": [
    {
      "cell_type": "markdown",
      "metadata": {
        "id": "view-in-github",
        "colab_type": "text"
      },
      "source": [
        "<a href=\"https://colab.research.google.com/github/Gurneet-Singh/Python-Programs/blob/main/Copy_of_DS4_Project_1_International_Space_Station.ipynb\" target=\"_parent\"><img src=\"https://colab.research.google.com/assets/colab-badge.svg\" alt=\"Open In Colab\"/></a>"
      ]
    },
    {
      "cell_type": "markdown",
      "metadata": {
        "id": "ZW2s_a31KfbO"
      },
      "source": [
        "#<img src=\"https://static.junilearning.com/images/juni_logo.png\" height=75 align=center hspace=\"5px\"> **DS4 Project 1: International Space Station**"
      ]
    },
    {
      "cell_type": "markdown",
      "metadata": {
        "id": "mybUsUbVLwze"
      },
      "source": [
        "After an instantaneous worldwide power outage, verbal communications with the International Space Station (ISS) have been disconnected. Fortunately the reliable Deep Space Network (DSN) is able to access some information about the state of the station. This information is accessible by API and will help us confirm the astronauts well being.\n",
        "\n",
        "Access the API here: http://api.open-notify.org\n",
        "\n",
        "<img src=\"https://static.junilearning.com/python_data_science/iss_communication.jpg\" align=center hspace=\"5px\" height=\"300\">\n",
        "\n",
        "Begin by verifying the identities of the astronauts currently in space and adding them to a list."
      ]
    },
    {
      "cell_type": "code",
      "metadata": {
        "id": "Jvirjy0OIkNu",
        "colab": {
          "base_uri": "https://localhost:8080/"
        },
        "outputId": "faccd826-3424-4f6b-8ebe-5ebf997ecea9"
      },
      "source": [
        "import json\n",
        "import requests\n",
        "\n",
        "def people():\n",
        "  response = requests.get(\"http://api.open-notify.org/astros.json\")\n",
        "  json_data = json.loads(response.text)\n",
        "  e = json_data.get(\"people\")\n",
        "  ppl = []\n",
        "  for i in e:\n",
        "    var = \"\"\n",
        "    var += i.get(\"name\") + \" is in the \" + i.get(\"craft\")\n",
        "    ppl.append(var)\n",
        "  return ppl\n",
        "\n",
        "print(people())"
      ],
      "execution_count": null,
      "outputs": [
        {
          "output_type": "stream",
          "name": "stdout",
          "text": [
            "['Mark Vande Hei is in the ISS', 'Pyotr Dubrov is in the ISS', 'Thomas Pesquet is in the ISS', 'Megan McArthur is in the ISS', 'Shane Kimbrough is in the ISS', 'Akihiko Hoshide is in the ISS', 'Anton Shkaplerov is in the ISS', 'Zhai Zhigang is in the Shenzhou 13', 'Wang Yaping is in the Shenzhou 13', 'Ye Guangfu is in the Shenzhou 13']\n"
          ]
        }
      ]
    },
    {
      "cell_type": "markdown",
      "metadata": {
        "id": "5_dAzmjmR8u8"
      },
      "source": [
        "Now that we've verifed that all the astronauts are safely aboard the ISS, we need to ensure that it's still moving at the expected velocity (the ISS usually travels at around 7 km/sec. This is the speed required to remain in orbit at 400 kms altitude). \n",
        "\n",
        "Velocity should be computed in terms of km/sec. Fetch the latitude and longitude coordinates of the ISS at two different times. Then find the difference in distance (km) and time (sec) to compute the velocity!\n",
        "\n",
        "Note: Because of the curvature of the earth, calculating distance can be tricky. Make sure to use the `distance()` function to make your calculations, which takes curvature into account. \n",
        "\n",
        "<img src=\"https://static.junilearning.com/python_data_science/iss_map.jpg\" align=center hspace=\"5px\" height=\"300\">"
      ]
    },
    {
      "cell_type": "code",
      "metadata": {
        "id": "5uJvdosgUIBD",
        "colab": {
          "base_uri": "https://localhost:8080/"
        },
        "outputId": "e49a2cfa-2e1d-4f83-d5e7-e71326aac6e6"
      },
      "source": [
        "import math\n",
        "import time\n",
        "\n",
        "def distance(lo1, la1, lo2, la2):\n",
        "  # Convert to radians\n",
        "  lo1 = math.radians(lo1)\n",
        "  la1 = math.radians(la1)\n",
        "  lo2 = math.radians(lo2)\n",
        "  la2 = math.radians(la2)\n",
        "\n",
        "  # Radius of earth in metres\n",
        "  r = 6378100\n",
        "\n",
        "  # P\n",
        "  rho1 = r * math.cos(la1)\n",
        "  z1 = r * math.sin(la1)\n",
        "  x1 = rho1 * math.cos(lo1)\n",
        "  y1 = rho1 * math.sin(lo1)\n",
        "\n",
        "  # Q\n",
        "  rho2 = r * math.cos(la2)\n",
        "  z2 = r * math.sin(la2)\n",
        "  x2 = rho2 * math.cos(lo2)\n",
        "  y2 = rho2 * math.sin(lo2)\n",
        "\n",
        "  # Dot product\n",
        "  dot = (x1 * x2 + y1 * y2 + z1 * z2)\n",
        "  cos_theta = dot / (r * r)\n",
        " \n",
        "  theta = math.acos(cos_theta);\n",
        " \n",
        "\t# Distance in Metres\n",
        "  return r * theta\n",
        "\n",
        "# timestamp 1: 1635802272\n",
        "# timestamp 2: 1635802294\n",
        "print(distance(-60.8547, -51.0554, -58.7279, -50.8116))\n",
        "\n",
        "# it traveled 151649.33989670622 meters in 24 seconds\n",
        "# 151649.33989670622 m to km is 151.64933989670622 km\n",
        "# 151.649/24 is 6.3187224957 km a second\n",
        "# this concludes the speed is about 19/3 km a second\n",
        "# however the speed of the ISS should be 21/3 (7) km a second\n",
        "\n",
        "print(distance(25.4011, 113.2446, 24.9060, 113.7155))\n",
        "\n",
        "# 56.83319528427408 km per 10 sec\n",
        "# 5.683319528427408 km per sec\n",
        "# 17/3 km a sec\n",
        "\n",
        "location1 = requests.get('http://api.open-notify.org/iss-now.json').json()\n",
        "time.sleep(10)\n",
        "location2 = requests.get('http://api.open-notify.org/iss-now.json').json()\n",
        "\n",
        "long1 = float(location1['iss_position']['longitude'])\n",
        "lat1 = float(location1['iss_position']['latitude'])\n",
        "\n",
        "long2 = float(location2['iss_position']['longitude'])\n",
        "lat2 = float(location2['iss_position']['latitude'])\n",
        "\n",
        "time1 = location1['timestamp']\n",
        "time2 = location2['timestamp']\n",
        "\n",
        "dist = distance(long1, lat1, long2, lat2)\n",
        "time = time2 - time1\n",
        "velocity = dist/time\n",
        "velocity /= 1000\n",
        "print(velocity, 'km/sec')"
      ],
      "execution_count": null,
      "outputs": [
        {
          "output_type": "stream",
          "name": "stdout",
          "text": [
            "151649.33989670622\n",
            "56833.19528427408\n",
            "7.270139234952753 km/sec\n"
          ]
        }
      ]
    }
  ]
}
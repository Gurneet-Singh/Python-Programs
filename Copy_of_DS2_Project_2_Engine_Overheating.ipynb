{
  "nbformat": 4,
  "nbformat_minor": 0,
  "metadata": {
    "colab": {
      "name": "Copy of DS2 Project 2: Engine Overheating",
      "provenance": [],
      "collapsed_sections": [],
      "include_colab_link": true
    },
    "kernelspec": {
      "name": "python3",
      "display_name": "Python 3"
    }
  },
  "cells": [
    {
      "cell_type": "markdown",
      "metadata": {
        "id": "view-in-github",
        "colab_type": "text"
      },
      "source": [
        "<a href=\"https://colab.research.google.com/github/Gurneet-Singh/Python-Programs/blob/main/Copy_of_DS2_Project_2_Engine_Overheating.ipynb\" target=\"_parent\"><img src=\"https://colab.research.google.com/assets/colab-badge.svg\" alt=\"Open In Colab\"/></a>"
      ]
    },
    {
      "cell_type": "markdown",
      "metadata": {
        "id": "1IlzYmqBjpKl"
      },
      "source": [
        "#<img src=\"https://static.junilearning.com/images/juni_logo.png\" height=75 align=center hspace=\"5px\"> **DS2 Project 2: Engine Overheating**\n",
        "\n",
        "\n",
        "\n"
      ]
    },
    {
      "cell_type": "markdown",
      "metadata": {
        "id": "azIMltfHBBtj"
      },
      "source": [
        "A car company has been receiving constant complaints about the engines in their new car. Customers report engine overheating, so the company has compiled a table of the following data from these complaints. The `Internal Temperature` records the temperature of the engine when it was overheating.\n",
        "\n",
        "> Indented block\n",
        "\n",
        "\n",
        "\n",
        "<img src=\"https://drive.google.com/uc?id=1WNTDPvm7om1-pEVlp5edqrfeIHqsh6t0\" align=center hspace=\"5px\" height=\"150\">\n",
        "\n",
        "Plotting the data could help identify which categories are most likely to be contributing to this issue. \n",
        "\n",
        "Organize the data into lists, storing data from each category in ascending order. Then plot these lists against the corresponding `Internal Temperature`,  displaying only one plot at a time in the cell. If there seems to be a clear linear relationship (a straight line) then the company will know to investigate these categories further."
      ]
    },
    {
      "cell_type": "code",
      "metadata": {
        "id": "ohv9pBU6-urT",
        "colab": {
          "base_uri": "https://localhost:8080/",
          "height": 281
        },
        "outputId": "f441e6bb-ed5c-47e1-c98a-21ae91afe3f7"
      },
      "source": [
        "import matplotlib.pyplot as plt\n",
        "\n",
        "coolant = [33, 55, 12]\n",
        "speed = [50, 60, 55]\n",
        "age = [38, 26, 24]\n",
        "external = [83, 105, 63]\n",
        "internal = [240, 260, 220]\n",
        "\n",
        "plt.title(\"internal vs coolant\")\n",
        "plt.scatter(internal, coolant)\n",
        "plt.show()"
      ],
      "execution_count": null,
      "outputs": [
        {
          "output_type": "display_data",
          "data": {
            "image/png": "[encoded data removed]",
            "text/plain": [
              "<Figure size 432x288 with 1 Axes>"
            ]
          },
          "metadata": {
            "needs_background": "light"
          }
        }
      ]
    },
    {
      "cell_type": "code",
      "metadata": {
        "colab": {
          "base_uri": "https://localhost:8080/",
          "height": 281
        },
        "id": "S5ljCxv8NGE2",
        "outputId": "26d6a057-7ca7-4da1-f482-4047410b8994"
      },
      "source": [
        "plt.title(\"internal vs speed\")\n",
        "plt.scatter(internal, speed)\n",
        "plt.show()"
      ],
      "execution_count": null,
      "outputs": [
        {
          "output_type": "display_data",
          "data": {
            "image/png": "[encoded data removed]",
            "text/plain": [
              "<Figure size 432x288 with 1 Axes>"
            ]
          },
          "metadata": {
            "needs_background": "light"
          }
        }
      ]
    },
    {
      "cell_type": "code",
      "metadata": {
        "colab": {
          "base_uri": "https://localhost:8080/",
          "height": 281
        },
        "id": "HxZbyYPzNGV-",
        "outputId": "55153cbe-f039-4bd5-97ca-a6cdf1e28bc7"
      },
      "source": [
        "plt.title(\"internal vs age\")\n",
        "plt.scatter(internal, age)\n",
        "plt.show()"
      ],
      "execution_count": null,
      "outputs": [
        {
          "output_type": "display_data",
          "data": {
            "image/png": "[encoded data removed]",
            "text/plain": [
              "<Figure size 432x288 with 1 Axes>"
            ]
          },
          "metadata": {
            "needs_background": "light"
          }
        }
      ]
    },
    {
      "cell_type": "code",
      "metadata": {
        "colab": {
          "base_uri": "https://localhost:8080/",
          "height": 281
        },
        "id": "Xm_rUNFENGdD",
        "outputId": "15e2bfc3-deb9-49cc-f981-d3cd12bd32ba"
      },
      "source": [
        "plt.title(\"internal vs external\")\n",
        "plt.scatter(internal, external)\n",
        "plt.show()"
      ],
      "execution_count": null,
      "outputs": [
        {
          "output_type": "display_data",
          "data": {
            "image/png": "[encoded data removed]",
            "text/plain": [
              "<Figure size 432x288 with 1 Axes>"
            ]
          },
          "metadata": {
            "needs_background": "light"
          }
        }
      ]
    },
    {
      "cell_type": "markdown",
      "metadata": {
        "id": "NXd207e6BNsQ"
      },
      "source": [
        "What categories are most likely contributing to this issue? Was there any data that wasn't useful?\n",
        "\n",
        "> Indented block\n",
        "\n",
        "\n"
      ]
    },
    {
      "cell_type": "markdown",
      "metadata": {
        "id": "gMw2yC8h-yeX"
      },
      "source": [
        "Analysis:\n",
        "\n",
        "as coolant increases, internal temperature also increases. as external temperature increases, internal temperature also increases. speed and age are a bit weird and there isnt a strong relationship. the patterns for both aren't linear. we didn't plot color because it's just a display and its not numerical.\n",
        "\n",
        "other response (not mine):\n",
        "Both the engine coolant level and the external temperature seem to have a clear linear relationship with the internal temperature. Age and average speed didn't seem to have a clear relationship. Additionally, the color of the color can't be plotted since it is a categorical variable (non-numerical).\n"
      ]
    }
  ]
}
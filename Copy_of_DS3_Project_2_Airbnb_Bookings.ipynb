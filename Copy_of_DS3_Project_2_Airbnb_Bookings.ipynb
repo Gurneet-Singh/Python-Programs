{
  "nbformat": 4,
  "nbformat_minor": 0,
  "metadata": {
    "colab": {
      "name": "Copy of DS3 Project 2: Airbnb Bookings",
      "provenance": [],
      "collapsed_sections": [],
      "include_colab_link": true
    },
    "kernelspec": {
      "name": "python3",
      "display_name": "Python 3"
    }
  },
  "cells": [
    {
      "cell_type": "markdown",
      "metadata": {
        "id": "view-in-github",
        "colab_type": "text"
      },
      "source": [
        "<a href=\"https://colab.research.google.com/github/Gurneet-Singh/Python-Programs/blob/main/Copy_of_DS3_Project_2_Airbnb_Bookings.ipynb\" target=\"_parent\"><img src=\"https://colab.research.google.com/assets/colab-badge.svg\" alt=\"Open In Colab\"/></a>"
      ]
    },
    {
      "cell_type": "markdown",
      "metadata": {
        "id": "ZW2s_a31KfbO"
      },
      "source": [
        "#<img src=\"https://static.junilearning.com/images/juni_logo.png\" height=75 align=center hspace=\"5px\"> **DS3 Airbnb Bookings**"
      ]
    },
    {
      "cell_type": "markdown",
      "metadata": {
        "id": "mybUsUbVLwze"
      },
      "source": [
        "You have been contracted to do seasonal work in Los Angeles during the Summer / Winter and are looking for flexible housing. You decide to explore listings on Airbnb and first need to decide whether to rent a room or an entire home / apartment. You first want to see the difference in the number of reviews between private rooms versus entire homes. Begin by importing the CSV dataset into a DataFrame and getting the mean number of reviews for entire homes and for private rooms. \n",
        "\n",
        "Dataset: https://static.junilearning.com/python_data_science/airbnb_listings.csv"
      ]
    },
    {
      "cell_type": "code",
      "metadata": {
        "id": "Jvirjy0OIkNu",
        "colab": {
          "base_uri": "https://localhost:8080/",
          "height": 711
        },
        "outputId": "30a6bb9b-40b7-4f29-bbb7-a7b723864d9f"
      },
      "source": [
        "import pandas as pd\n",
        "\n",
        "df = pd.read_csv('https://static.junilearning.com/python_data_science/airbnb_listings.csv')\n",
        "display(df)"
      ],
      "execution_count": null,
      "outputs": [
        {
          "output_type": "display_data",
          "data": {
            "text/html": [
              "<div>\n",
              "<style scoped>\n",
              "    .dataframe tbody tr th:only-of-type {\n",
              "        vertical-align: middle;\n",
              "    }\n",
              "\n",
              "    .dataframe tbody tr th {\n",
              "        vertical-align: top;\n",
              "    }\n",
              "\n",
              "    .dataframe thead th {\n",
              "        text-align: right;\n",
              "    }\n",
              "</style>\n",
              "<table border=\"1\" class=\"dataframe\">\n",
              "  <thead>\n",
              "    <tr style=\"text-align: right;\">\n",
              "      <th></th>\n",
              "      <th>id</th>\n",
              "      <th>name</th>\n",
              "      <th>host_id</th>\n",
              "      <th>host_name</th>\n",
              "      <th>neighbourhood_group</th>\n",
              "      <th>neighbourhood</th>\n",
              "      <th>latitude</th>\n",
              "      <th>longitude</th>\n",
              "      <th>room_type</th>\n",
              "      <th>price</th>\n",
              "      <th>minimum_nights</th>\n",
              "      <th>number_of_reviews</th>\n",
              "      <th>last_review</th>\n",
              "      <th>reviews_per_month</th>\n",
              "      <th>calculated_host_listings_count</th>\n",
              "      <th>availability_365</th>\n",
              "    </tr>\n",
              "  </thead>\n",
              "  <tbody>\n",
              "    <tr>\n",
              "      <th>0</th>\n",
              "      <td>109</td>\n",
              "      <td>Amazing bright elegant condo park front *UPGRA...</td>\n",
              "      <td>521</td>\n",
              "      <td>Paolo</td>\n",
              "      <td>Other Cities</td>\n",
              "      <td>Culver City</td>\n",
              "      <td>33.98209</td>\n",
              "      <td>-118.38494</td>\n",
              "      <td>Entire home/apt</td>\n",
              "      <td>115</td>\n",
              "      <td>30</td>\n",
              "      <td>2</td>\n",
              "      <td>2016-05-15</td>\n",
              "      <td>0.02</td>\n",
              "      <td>1</td>\n",
              "      <td>0</td>\n",
              "    </tr>\n",
              "    <tr>\n",
              "      <th>1</th>\n",
              "      <td>2708</td>\n",
              "      <td>Runyon Canyon  | Beau Furn Mir Mini-Suite Fire...</td>\n",
              "      <td>3008</td>\n",
              "      <td>Chas.</td>\n",
              "      <td>City of Los Angeles</td>\n",
              "      <td>Hollywood</td>\n",
              "      <td>34.09768</td>\n",
              "      <td>-118.34602</td>\n",
              "      <td>Private room</td>\n",
              "      <td>71</td>\n",
              "      <td>30</td>\n",
              "      <td>28</td>\n",
              "      <td>2020-11-08</td>\n",
              "      <td>0.34</td>\n",
              "      <td>2</td>\n",
              "      <td>315</td>\n",
              "    </tr>\n",
              "    <tr>\n",
              "      <th>2</th>\n",
              "      <td>2732</td>\n",
              "      <td>Zen Life at the Beach</td>\n",
              "      <td>3041</td>\n",
              "      <td>Yoga Priestess</td>\n",
              "      <td>Other Cities</td>\n",
              "      <td>Santa Monica</td>\n",
              "      <td>34.00475</td>\n",
              "      <td>-118.48127</td>\n",
              "      <td>Private room</td>\n",
              "      <td>155</td>\n",
              "      <td>1</td>\n",
              "      <td>21</td>\n",
              "      <td>2019-12-27</td>\n",
              "      <td>0.18</td>\n",
              "      <td>2</td>\n",
              "      <td>365</td>\n",
              "    </tr>\n",
              "    <tr>\n",
              "      <th>3</th>\n",
              "      <td>2864</td>\n",
              "      <td>* Beautiful Master Suite/Jacuzzi Tub/*</td>\n",
              "      <td>3207</td>\n",
              "      <td>Bernadine</td>\n",
              "      <td>Other Cities</td>\n",
              "      <td>Bellflower</td>\n",
              "      <td>33.87619</td>\n",
              "      <td>-118.11397</td>\n",
              "      <td>Entire home/apt</td>\n",
              "      <td>50</td>\n",
              "      <td>30</td>\n",
              "      <td>0</td>\n",
              "      <td>NaN</td>\n",
              "      <td>NaN</td>\n",
              "      <td>1</td>\n",
              "      <td>0</td>\n",
              "    </tr>\n",
              "    <tr>\n",
              "      <th>4</th>\n",
              "      <td>5728</td>\n",
              "      <td>Tiny Home in Artistic Oasis near Venice and LAX</td>\n",
              "      <td>9171</td>\n",
              "      <td>Sanni</td>\n",
              "      <td>City of Los Angeles</td>\n",
              "      <td>Del Rey</td>\n",
              "      <td>33.98750</td>\n",
              "      <td>-118.43200</td>\n",
              "      <td>Private room</td>\n",
              "      <td>42</td>\n",
              "      <td>30</td>\n",
              "      <td>310</td>\n",
              "      <td>2020-04-29</td>\n",
              "      <td>2.20</td>\n",
              "      <td>4</td>\n",
              "      <td>1</td>\n",
              "    </tr>\n",
              "    <tr>\n",
              "      <th>...</th>\n",
              "      <td>...</td>\n",
              "      <td>...</td>\n",
              "      <td>...</td>\n",
              "      <td>...</td>\n",
              "      <td>...</td>\n",
              "      <td>...</td>\n",
              "      <td>...</td>\n",
              "      <td>...</td>\n",
              "      <td>...</td>\n",
              "      <td>...</td>\n",
              "      <td>...</td>\n",
              "      <td>...</td>\n",
              "      <td>...</td>\n",
              "      <td>...</td>\n",
              "      <td>...</td>\n",
              "      <td>...</td>\n",
              "    </tr>\n",
              "    <tr>\n",
              "      <th>31895</th>\n",
              "      <td>48070933</td>\n",
              "      <td>clean and comfortable room to rest</td>\n",
              "      <td>387568794</td>\n",
              "      <td>Sergio</td>\n",
              "      <td>Unincorporated Areas</td>\n",
              "      <td>Rowland Heights</td>\n",
              "      <td>33.98763</td>\n",
              "      <td>-117.88529</td>\n",
              "      <td>Private room</td>\n",
              "      <td>36</td>\n",
              "      <td>1</td>\n",
              "      <td>0</td>\n",
              "      <td>NaN</td>\n",
              "      <td>NaN</td>\n",
              "      <td>3</td>\n",
              "      <td>180</td>\n",
              "    </tr>\n",
              "    <tr>\n",
              "      <th>31896</th>\n",
              "      <td>48070985</td>\n",
              "      <td>quiet and clean room</td>\n",
              "      <td>387568794</td>\n",
              "      <td>Sergio</td>\n",
              "      <td>Unincorporated Areas</td>\n",
              "      <td>Rowland Heights</td>\n",
              "      <td>33.98740</td>\n",
              "      <td>-117.88588</td>\n",
              "      <td>Private room</td>\n",
              "      <td>28</td>\n",
              "      <td>1</td>\n",
              "      <td>0</td>\n",
              "      <td>NaN</td>\n",
              "      <td>NaN</td>\n",
              "      <td>3</td>\n",
              "      <td>179</td>\n",
              "    </tr>\n",
              "    <tr>\n",
              "      <th>31897</th>\n",
              "      <td>48071306</td>\n",
              "      <td>LOWER PRICE and Deep Cleaning+Pool+Free Parkin...</td>\n",
              "      <td>106941010</td>\n",
              "      <td>Linda</td>\n",
              "      <td>City of Los Angeles</td>\n",
              "      <td>Westwood</td>\n",
              "      <td>34.06114</td>\n",
              "      <td>-118.44367</td>\n",
              "      <td>Entire home/apt</td>\n",
              "      <td>176</td>\n",
              "      <td>1</td>\n",
              "      <td>0</td>\n",
              "      <td>NaN</td>\n",
              "      <td>NaN</td>\n",
              "      <td>13</td>\n",
              "      <td>270</td>\n",
              "    </tr>\n",
              "    <tr>\n",
              "      <th>31898</th>\n",
              "      <td>48071488</td>\n",
              "      <td>Historical Mansion Hotel</td>\n",
              "      <td>8402388</td>\n",
              "      <td>Jessica</td>\n",
              "      <td>Other Cities</td>\n",
              "      <td>Glendora</td>\n",
              "      <td>34.15155</td>\n",
              "      <td>-117.87664</td>\n",
              "      <td>Entire home/apt</td>\n",
              "      <td>195</td>\n",
              "      <td>1</td>\n",
              "      <td>0</td>\n",
              "      <td>NaN</td>\n",
              "      <td>NaN</td>\n",
              "      <td>5</td>\n",
              "      <td>362</td>\n",
              "    </tr>\n",
              "    <tr>\n",
              "      <th>31899</th>\n",
              "      <td>48072320</td>\n",
              "      <td>Happy home 快乐之家</td>\n",
              "      <td>45258263</td>\n",
              "      <td>Zhou</td>\n",
              "      <td>Other Cities</td>\n",
              "      <td>Arcadia</td>\n",
              "      <td>34.10909</td>\n",
              "      <td>-118.05121</td>\n",
              "      <td>Private room</td>\n",
              "      <td>45</td>\n",
              "      <td>7</td>\n",
              "      <td>0</td>\n",
              "      <td>NaN</td>\n",
              "      <td>NaN</td>\n",
              "      <td>2</td>\n",
              "      <td>343</td>\n",
              "    </tr>\n",
              "  </tbody>\n",
              "</table>\n",
              "<p>31900 rows × 16 columns</p>\n",
              "</div>"
            ],
            "text/plain": [
              "             id  ... availability_365\n",
              "0           109  ...                0\n",
              "1          2708  ...              315\n",
              "2          2732  ...              365\n",
              "3          2864  ...                0\n",
              "4          5728  ...                1\n",
              "...         ...  ...              ...\n",
              "31895  48070933  ...              180\n",
              "31896  48070985  ...              179\n",
              "31897  48071306  ...              270\n",
              "31898  48071488  ...              362\n",
              "31899  48072320  ...              343\n",
              "\n",
              "[31900 rows x 16 columns]"
            ]
          },
          "metadata": {}
        }
      ]
    },
    {
      "cell_type": "code",
      "metadata": {
        "colab": {
          "base_uri": "https://localhost:8080/"
        },
        "id": "U1TpzLANYssq",
        "outputId": "001860dd-ec88-4256-9555-58326e77d067"
      },
      "source": [
        "df[df['room_type'] == 'Private room'][\"number_of_reviews\"].mean()"
      ],
      "execution_count": null,
      "outputs": [
        {
          "output_type": "execute_result",
          "data": {
            "text/plain": [
              "29.741912728005644"
            ]
          },
          "metadata": {},
          "execution_count": 15
        }
      ]
    },
    {
      "cell_type": "code",
      "metadata": {
        "colab": {
          "base_uri": "https://localhost:8080/"
        },
        "id": "b0kQ8V8kckxv",
        "outputId": "b6c7211e-5ca6-45e1-d778-1e4fc052e523"
      },
      "source": [
        "df[df['room_type'] != 'Private room'][\"number_of_reviews\"].mean()"
      ],
      "execution_count": null,
      "outputs": [
        {
          "output_type": "execute_result",
          "data": {
            "text/plain": [
              "35.25135368794649"
            ]
          },
          "metadata": {},
          "execution_count": 2
        }
      ]
    },
    {
      "cell_type": "markdown",
      "metadata": {
        "id": "5_dAzmjmR8u8"
      },
      "source": [
        "From our previous findings we found that entire homes have more reviews on average than private rooms, indicating that they're more popular. Now that you've decided to rent an entire home, you next want to identify listings that meet your requirements. Your requirements are: `price < $200`, `location = Hollywood`, `minimum nights = 30`, `reviews = 10`, and `availability = 200`. Output a DataFrame with entire home listings that meet these requirements."
      ]
    },
    {
      "cell_type": "code",
      "metadata": {
        "id": "5uJvdosgUIBD"
      },
      "source": [
        "df2 = df[(df[\"price\"] < 200) & (df[\"neighbourhood\"] == \"Hollywood\") & (df[\"minimum_nights\"] >= 30) & (df[\"number_of_reviews\"] >= 10) & (df[\"availability_365\"] >= 200)]"
      ],
      "execution_count": null,
      "outputs": []
    },
    {
      "cell_type": "markdown",
      "metadata": {
        "id": "71vNLvWyfNtR"
      },
      "source": [
        "Now we want to pick the best listing that meets our requirements. Most importantly we want to rank the listings according to lowest price and least reviews per month (which helps us figure out if it's available often). Now let's grab the columns of price and reviews per month and output the summary statistics for each."
      ]
    },
    {
      "cell_type": "code",
      "metadata": {
        "id": "UozQCLAqiK-K",
        "colab": {
          "base_uri": "https://localhost:8080/"
        },
        "outputId": "ef3b02aa-d074-4d06-f8b1-de4a82d0a17e"
      },
      "source": [
        "df2[\"price\"].min()"
      ],
      "execution_count": null,
      "outputs": [
        {
          "output_type": "execute_result",
          "data": {
            "text/plain": [
              "35"
            ]
          },
          "metadata": {},
          "execution_count": 11
        }
      ]
    },
    {
      "cell_type": "code",
      "metadata": {
        "colab": {
          "base_uri": "https://localhost:8080/"
        },
        "id": "n0-MaV93NYhZ",
        "outputId": "8e348ce5-b232-46b1-ae84-ab9f2c300d24"
      },
      "source": [
        "df2[\"price\"].describe()"
      ],
      "execution_count": null,
      "outputs": [
        {
          "output_type": "execute_result",
          "data": {
            "text/plain": [
              "count    167.000000\n",
              "mean      94.317365\n",
              "std       36.721205\n",
              "min       35.000000\n",
              "25%       69.000000\n",
              "50%       89.000000\n",
              "75%      119.500000\n",
              "max      199.000000\n",
              "Name: price, dtype: float64"
            ]
          },
          "metadata": {},
          "execution_count": 15
        }
      ]
    },
    {
      "cell_type": "code",
      "metadata": {
        "colab": {
          "base_uri": "https://localhost:8080/"
        },
        "id": "2yBSV-EyNfCf",
        "outputId": "3add24f0-5242-4510-e7ec-52a2afdb69e0"
      },
      "source": [
        "df2[\"reviews_per_month\"].describe()"
      ],
      "execution_count": null,
      "outputs": [
        {
          "output_type": "execute_result",
          "data": {
            "text/plain": [
              "count    167.000000\n",
              "mean       1.594611\n",
              "std        1.392229\n",
              "min        0.130000\n",
              "25%        0.540000\n",
              "50%        1.210000\n",
              "75%        2.150000\n",
              "max        6.090000\n",
              "Name: reviews_per_month, dtype: float64"
            ]
          },
          "metadata": {},
          "execution_count": 17
        }
      ]
    },
    {
      "cell_type": "code",
      "metadata": {
        "colab": {
          "base_uri": "https://localhost:8080/"
        },
        "id": "vIThB9OZQ2dK",
        "outputId": "1f7e202d-7ac4-4408-bea8-20c4c7606af3"
      },
      "source": [
        "df2[\"number_of_reviews\"].min()"
      ],
      "execution_count": null,
      "outputs": [
        {
          "output_type": "execute_result",
          "data": {
            "text/plain": [
              "10"
            ]
          },
          "metadata": {},
          "execution_count": 12
        }
      ]
    },
    {
      "cell_type": "markdown",
      "metadata": {
        "id": "4v31gs_JjDyb"
      },
      "source": [
        "Finally let's filter our DataFrame to only include prices and reviews in the first quartile. Then decide on the ID number of the best two listings and type the ID's in the text box below."
      ]
    },
    {
      "cell_type": "code",
      "metadata": {
        "id": "TmjQPY_DjtxP",
        "colab": {
          "base_uri": "https://localhost:8080/",
          "height": 231
        },
        "outputId": "e6afd8c4-5052-4d21-f889-9b68e548b21c"
      },
      "source": [
        "#df3 = pd.read_csv(\"https://static.junilearning.com/python_data_science/airbnb_listings.csv\", nrows = 7975)\n",
        "df3 = df2[(df2[\"price\"] <= 69) & (df2[\"reviews_per_month\"] <= 0.54)]\n",
        "#display(df3)\n",
        "#df3[(df[\"price\"] < 50) & (df[\"host_id\"] > 5000000) & (df[\"minimum_nights\"] == 30) & (df[\"number_of_reviews\"] > 89) & (df[\"reviews_per_month\"] > 5)]\n",
        "\n",
        "df3.sort_values(['price','reviews_per_month'],ascending=[True,False])"
      ],
      "execution_count": null,
      "outputs": [
        {
          "output_type": "error",
          "ename": "NameError",
          "evalue": "ignored",
          "traceback": [
            "\u001b[0;31m---------------------------------------------------------------------------\u001b[0m",
            "\u001b[0;31mNameError\u001b[0m                                 Traceback (most recent call last)",
            "\u001b[0;32m<ipython-input-1-3325d07feeec>\u001b[0m in \u001b[0;36m<module>\u001b[0;34m()\u001b[0m\n\u001b[1;32m      1\u001b[0m \u001b[0;31m#df3 = pd.read_csv(\"https://static.junilearning.com/python_data_science/airbnb_listings.csv\", nrows = 7975)\u001b[0m\u001b[0;34m\u001b[0m\u001b[0;34m\u001b[0m\u001b[0;34m\u001b[0m\u001b[0m\n\u001b[0;32m----> 2\u001b[0;31m \u001b[0mdf3\u001b[0m \u001b[0;34m=\u001b[0m \u001b[0mdf2\u001b[0m\u001b[0;34m[\u001b[0m\u001b[0;34m(\u001b[0m\u001b[0mdf2\u001b[0m\u001b[0;34m[\u001b[0m\u001b[0;34m\"price\"\u001b[0m\u001b[0;34m]\u001b[0m \u001b[0;34m<=\u001b[0m \u001b[0;36m69\u001b[0m\u001b[0;34m)\u001b[0m \u001b[0;34m&\u001b[0m \u001b[0;34m(\u001b[0m\u001b[0mdf2\u001b[0m\u001b[0;34m[\u001b[0m\u001b[0;34m\"reviews_per_month\"\u001b[0m\u001b[0;34m]\u001b[0m \u001b[0;34m<=\u001b[0m \u001b[0;36m0.54\u001b[0m\u001b[0;34m)\u001b[0m\u001b[0;34m]\u001b[0m\u001b[0;34m\u001b[0m\u001b[0;34m\u001b[0m\u001b[0m\n\u001b[0m\u001b[1;32m      3\u001b[0m \u001b[0;31m#display(df3)\u001b[0m\u001b[0;34m\u001b[0m\u001b[0;34m\u001b[0m\u001b[0;34m\u001b[0m\u001b[0m\n\u001b[1;32m      4\u001b[0m \u001b[0;31m#df3[(df[\"price\"] < 50) & (df[\"host_id\"] > 5000000) & (df[\"minimum_nights\"] == 30) & (df[\"number_of_reviews\"] > 89) & (df[\"reviews_per_month\"] > 5)]\u001b[0m\u001b[0;34m\u001b[0m\u001b[0;34m\u001b[0m\u001b[0;34m\u001b[0m\u001b[0m\n\u001b[1;32m      5\u001b[0m \u001b[0;34m\u001b[0m\u001b[0m\n",
            "\u001b[0;31mNameError\u001b[0m: name 'df2' is not defined"
          ]
        }
      ]
    },
    {
      "cell_type": "markdown",
      "metadata": {
        "id": "a0wuM2DZmjZc"
      },
      "source": [
        "Best Listings ID's - "
      ]
    }
  ]
}
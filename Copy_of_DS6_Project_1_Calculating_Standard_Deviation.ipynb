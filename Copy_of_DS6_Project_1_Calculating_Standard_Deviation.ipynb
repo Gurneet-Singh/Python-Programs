{
  "nbformat": 4,
  "nbformat_minor": 0,
  "metadata": {
    "colab": {
      "name": "Copy of DS6 Project 1: Calculating Standard Deviation",
      "provenance": [],
      "collapsed_sections": [],
      "include_colab_link": true
    },
    "kernelspec": {
      "name": "python3",
      "display_name": "Python 3"
    },
    "language_info": {
      "name": "python"
    }
  },
  "cells": [
    {
      "cell_type": "markdown",
      "metadata": {
        "id": "view-in-github",
        "colab_type": "text"
      },
      "source": [
        "<a href=\"https://colab.research.google.com/github/Gurneet-Singh/Python-Programs/blob/main/Copy_of_DS6_Project_1_Calculating_Standard_Deviation.ipynb\" target=\"_parent\"><img src=\"https://colab.research.google.com/assets/colab-badge.svg\" alt=\"Open In Colab\"/></a>"
      ]
    },
    {
      "cell_type": "markdown",
      "metadata": {
        "id": "4r8N8UQpHv-6"
      },
      "source": [
        "#<img src=\"https://static.junilearning.com/images/juni_logo.png\" height=75 align=center hspace=\"5px\"> **DS6 Project 1: Calculating Standard Deviation**"
      ]
    },
    {
      "cell_type": "markdown",
      "metadata": {
        "id": "PHw7g7aCHfNK"
      },
      "source": [
        "Create a DataFrame from the Height and Weight CSV file here: https://static.junilearning.com/python_data_science/height_and_weight.csv"
      ]
    },
    {
      "cell_type": "code",
      "metadata": {
        "id": "YYBu7_EiBtDq"
      },
      "source": [
        "import seaborn as sns\n",
        "import pandas as pd\n",
        "import matplotlib.pyplot as plt\n",
        "import math"
      ],
      "execution_count": null,
      "outputs": []
    },
    {
      "cell_type": "code",
      "metadata": {
        "id": "eOaStavjOsb8",
        "colab": {
          "base_uri": "https://localhost:8080/",
          "height": 423
        },
        "outputId": "975499b7-b193-4dd0-a419-110d0b8a627a"
      },
      "source": [
        "df = pd.read_csv(\"https://static.junilearning.com/python_data_science/height_and_weight.csv\")\n",
        "display(df)"
      ],
      "execution_count": null,
      "outputs": [
        {
          "output_type": "display_data",
          "data": {
            "text/html": [
              "<div>\n",
              "<style scoped>\n",
              "    .dataframe tbody tr th:only-of-type {\n",
              "        vertical-align: middle;\n",
              "    }\n",
              "\n",
              "    .dataframe tbody tr th {\n",
              "        vertical-align: top;\n",
              "    }\n",
              "\n",
              "    .dataframe thead th {\n",
              "        text-align: right;\n",
              "    }\n",
              "</style>\n",
              "<table border=\"1\" class=\"dataframe\">\n",
              "  <thead>\n",
              "    <tr style=\"text-align: right;\">\n",
              "      <th></th>\n",
              "      <th>Height</th>\n",
              "      <th>Weight</th>\n",
              "    </tr>\n",
              "  </thead>\n",
              "  <tbody>\n",
              "    <tr>\n",
              "      <th>0</th>\n",
              "      <td>65.78331</td>\n",
              "      <td>112.9925</td>\n",
              "    </tr>\n",
              "    <tr>\n",
              "      <th>1</th>\n",
              "      <td>71.51521</td>\n",
              "      <td>136.4873</td>\n",
              "    </tr>\n",
              "    <tr>\n",
              "      <th>2</th>\n",
              "      <td>69.39874</td>\n",
              "      <td>153.0269</td>\n",
              "    </tr>\n",
              "    <tr>\n",
              "      <th>3</th>\n",
              "      <td>68.21660</td>\n",
              "      <td>142.3354</td>\n",
              "    </tr>\n",
              "    <tr>\n",
              "      <th>4</th>\n",
              "      <td>67.78781</td>\n",
              "      <td>144.2971</td>\n",
              "    </tr>\n",
              "    <tr>\n",
              "      <th>...</th>\n",
              "      <td>...</td>\n",
              "      <td>...</td>\n",
              "    </tr>\n",
              "    <tr>\n",
              "      <th>21838</th>\n",
              "      <td>69.76603</td>\n",
              "      <td>127.3629</td>\n",
              "    </tr>\n",
              "    <tr>\n",
              "      <th>21839</th>\n",
              "      <td>68.24223</td>\n",
              "      <td>124.3347</td>\n",
              "    </tr>\n",
              "    <tr>\n",
              "      <th>21840</th>\n",
              "      <td>68.84887</td>\n",
              "      <td>136.3807</td>\n",
              "    </tr>\n",
              "    <tr>\n",
              "      <th>21841</th>\n",
              "      <td>67.04484</td>\n",
              "      <td>127.0678</td>\n",
              "    </tr>\n",
              "    <tr>\n",
              "      <th>21842</th>\n",
              "      <td>70.93046</td>\n",
              "      <td>126.9017</td>\n",
              "    </tr>\n",
              "  </tbody>\n",
              "</table>\n",
              "<p>21843 rows × 2 columns</p>\n",
              "</div>"
            ],
            "text/plain": [
              "         Height    Weight\n",
              "0      65.78331  112.9925\n",
              "1      71.51521  136.4873\n",
              "2      69.39874  153.0269\n",
              "3      68.21660  142.3354\n",
              "4      67.78781  144.2971\n",
              "...         ...       ...\n",
              "21838  69.76603  127.3629\n",
              "21839  68.24223  124.3347\n",
              "21840  68.84887  136.3807\n",
              "21841  67.04484  127.0678\n",
              "21842  70.93046  126.9017\n",
              "\n",
              "[21843 rows x 2 columns]"
            ]
          },
          "metadata": {}
        }
      ]
    },
    {
      "cell_type": "markdown",
      "metadata": {
        "id": "gIpIP9ZE9u-3"
      },
      "source": [
        "**Part 1: Calculate Standard Deviation** \n",
        "\n",
        "Write a function `std()` that takes in a DataFrame and the name of a column, and returns the standard deviation of all the data in that column. \n",
        "\n",
        "Test your function on the `Height` and `Weight` columns. Compare your answers to what pandas generates when you call `df.std()`\n",
        "\n",
        "![picture](https://sohcahtoa.org.uk/oldblog/images/standarddeviationstandardalgorithm.png)\n"
      ]
    },
    {
      "cell_type": "code",
      "metadata": {
        "id": "9aM3pe2SOtDL",
        "colab": {
          "base_uri": "https://localhost:8080/"
        },
        "outputId": "066ea8e2-525f-4114-d277-4a69875235c0"
      },
      "source": [
        "def std(dataframe, col):\n",
        "  column = dataframe[col]\n",
        "  avg = column.mean()\n",
        "  l1 = []\n",
        "  for i in column:\n",
        "    l1.append((i-avg) ** 2)\n",
        "  num = 0\n",
        "  for i in l1:\n",
        "    num += i\n",
        "  num /= len(l1)\n",
        "  return math.sqrt(num)\n",
        "\n",
        "print(std(df, \"Height\"))"
      ],
      "execution_count": null,
      "outputs": [
        {
          "output_type": "stream",
          "name": "stdout",
          "text": [
            "1.899373832244439\n"
          ]
        }
      ]
    },
    {
      "cell_type": "markdown",
      "metadata": {
        "id": "MNF3N-cedIrK"
      },
      "source": [
        "**Part 2: Calculate Percent Values**\n",
        "\n",
        "Write a function `percentage()` that calculates the percentage of values in a distribution that fall between lower and upper bound.\n",
        "\n",
        "Then test your function and ensure that roughly 68% falls within 1 standard deviation of the mean, 96% falls within 2 standard deviations, and 99.7 falls within 3 standard deviations. "
      ]
    },
    {
      "cell_type": "code",
      "metadata": {
        "id": "sfPHs5rtdMz1",
        "colab": {
          "base_uri": "https://localhost:8080/"
        },
        "outputId": "0b40d6f5-1ab7-4be8-8f5e-ad42bccf939c"
      },
      "source": [
        "def percentage(df):\n",
        "  print(df.mean())\n",
        "\n",
        "percentage(df)\n",
        "\n",
        "# df1/df2\n",
        "# len(df2)/len(df1)"
      ],
      "execution_count": null,
      "outputs": [
        {
          "output_type": "stream",
          "name": "stdout",
          "text": [
            "Height     67.987663\n",
            "Weight    127.089804\n",
            "dtype: float64\n"
          ]
        }
      ]
    }
  ]
}
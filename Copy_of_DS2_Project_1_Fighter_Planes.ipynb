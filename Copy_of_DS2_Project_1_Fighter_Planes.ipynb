{
  "nbformat": 4,
  "nbformat_minor": 0,
  "metadata": {
    "colab": {
      "name": "Copy of DS2 Project 1: Fighter Planes",
      "provenance": [],
      "collapsed_sections": [],
      "include_colab_link": true
    },
    "kernelspec": {
      "name": "python3",
      "display_name": "Python 3"
    }
  },
  "cells": [
    {
      "cell_type": "markdown",
      "metadata": {
        "id": "view-in-github",
        "colab_type": "text"
      },
      "source": [
        "<a href=\"https://colab.research.google.com/github/Gurneet-Singh/Python-Programs/blob/main/Copy_of_DS2_Project_1_Fighter_Planes.ipynb\" target=\"_parent\"><img src=\"https://colab.research.google.com/assets/colab-badge.svg\" alt=\"Open In Colab\"/></a>"
      ]
    },
    {
      "cell_type": "markdown",
      "metadata": {
        "id": "iaHp5FcC7T09"
      },
      "source": [
        "#<img src=\"https://static.junilearning.com/images/juni_logo.png\" height=75 align=center hspace=\"5px\"> **DS2 Project 1: Fighter Planes**"
      ]
    },
    {
      "cell_type": "markdown",
      "metadata": {
        "id": "gHRTk1KC7V93"
      },
      "source": [
        "###**Fighter Planes - Part 1**"
      ]
    },
    {
      "cell_type": "markdown",
      "metadata": {
        "id": "vbPmji8Q7lW7"
      },
      "source": [
        "The following images show the damage (indicated by the red dots) on aircrafts that returned from a mission. Create clusters of data by splitting the plane into regions and compare the damage in each cluster using a bar graph to determine where reinforcements need to be applied to the planes.\n",
        "\n",
        "<img src=\"https://static.junilearning.com/python_data_science/plane1.jpeg\"  hspace=\"5px\" height=\"300\">\n",
        "<img src=\"https://static.junilearning.com/python_data_science/plane2.jpeg\"  hspace=\"5px\" height=\"300\">\n",
        "<img src=\"https://static.junilearning.com/python_data_science/plane3.jpeg\"  hspace=\"5px\" height=\"300\">\n",
        "<img src=\"https://static.junilearning.com/python_data_science/plane4.jpeg\"  hspace=\"5px\" height=\"300\">\n",
        "<img src=\"https://static.junilearning.com/python_data_science/plane5.jpeg\"  hspace=\"5px\" height=\"300\">"
      ]
    },
    {
      "cell_type": "markdown",
      "metadata": {
        "id": "UF_qrBfT7qsx"
      },
      "source": [
        "###Analysis:"
      ]
    },
    {
      "cell_type": "markdown",
      "metadata": {
        "id": "AxNKEroX7wlA"
      },
      "source": [
        "Consider the following clusters:\n",
        "\n",
        "<img src=\"https://static.junilearning.com/python_data_science/plane_blank.jpeg\"  hspace=\"5px\" height=\"300\">"
      ]
    },
    {
      "cell_type": "code",
      "metadata": {
        "id": "zOsI1Zh877fS",
        "colab": {
          "base_uri": "https://localhost:8080/",
          "height": 302
        },
        "outputId": "88db4fc3-68c3-4453-c1d1-a9fbdc76ea05"
      },
      "source": [
        "import matplotlib.pyplot as plt\n",
        "import seaborn as sns\n",
        "# create lists for each plane, like [front, left wing, center, right wing, back]\n",
        "p1 = [1, 6, 1, 8, 4]\n",
        "p2 = [0, 5, 3, 8, 4]\n",
        "p3 = [4, 5, 0, 6, 5]\n",
        "p4 = [1, 7, 1, 10, 9]\n",
        "p5 = [1, 12, 2, 15, 11]\n",
        "total = [7, 35, 5, 47, 33]\n",
        "\n",
        "# clusters\n",
        "sns.set()\n",
        "\n",
        "clusters = [\"front\", \"l_wing\", \"mid\", \"r_wing\", \"back\"]\n",
        "plt.title(\"damage frequency: returned\")\n",
        "plt.bar(clusters, total)\n",
        "plt.xlabel(\"parts of the plane\")\n",
        "plt.ylabel(\"damage\")\n",
        "plt.show()"
      ],
      "execution_count": null,
      "outputs": [
        {
          "output_type": "display_data",
          "data": {
            "image/png": "[encoded data removed]",
            "text/plain": [
              "<Figure size 432x288 with 1 Axes>"
            ]
          },
          "metadata": {}
        }
      ]
    },
    {
      "cell_type": "markdown",
      "metadata": {
        "id": "hjgXUHQK79zT"
      },
      "source": [
        "###**Fighter Planes - Part 2**"
      ]
    },
    {
      "cell_type": "markdown",
      "metadata": {
        "id": "9nrc3h3c8T1-"
      },
      "source": [
        "Now consider the following 5 planes found in the ocean. Revisit your process and create another bar graph for these 5 planes\n",
        "\n",
        "<img src=\"https://static.junilearning.com/python_data_science/plane_ocean1.jpeg\"  hspace=\"5px\" height=\"300\">\n",
        "<img src=\"https://static.junilearning.com/python_data_science/plane_ocean2.jpeg\"  hspace=\"5px\" height=\"300\">\n",
        "<img src=\"https://static.junilearning.com/python_data_science/plane_ocean3.jpeg\"  hspace=\"5px\" height=\"300\">\n",
        "<img src=\"https://static.junilearning.com/python_data_science/plane_ocean4.jpeg\"  hspace=\"5px\" height=\"300\">\n",
        "<img src=\"https://static.junilearning.com/python_data_science/plane_ocean5.jpeg\"  hspace=\"5px\" height=\"300\">"
      ]
    },
    {
      "cell_type": "markdown",
      "metadata": {
        "id": "UM700LQk8Zjt"
      },
      "source": [
        "###Analysis:"
      ]
    },
    {
      "cell_type": "markdown",
      "metadata": {
        "id": "iUgJpswI8xVq"
      },
      "source": [
        ""
      ]
    },
    {
      "cell_type": "code",
      "metadata": {
        "id": "aJcTjEfY8ti2",
        "colab": {
          "base_uri": "https://localhost:8080/",
          "height": 296
        },
        "outputId": "1997a887-b894-4a0a-b7f7-f505238c6f46"
      },
      "source": [
        "total = [23, 14, 61, 12, 12]\n",
        "\n",
        "clusters = [\"front\", \"l_wing\", \"mid\", \"r_wing\", \"back\"]\n",
        "plt.title(\"damage frequency: ocean\")\n",
        "plt.bar(clusters, total)\n",
        "plt.xlabel(\"parts of the plane\")\n",
        "plt.ylabel(\"damage\")\n",
        "plt.show()"
      ],
      "execution_count": null,
      "outputs": [
        {
          "output_type": "display_data",
          "data": {
            "image/png": "[encoded data removed]",
            "text/plain": [
              "<Figure size 432x288 with 1 Axes>"
            ]
          },
          "metadata": {
            "needs_background": "light"
          }
        }
      ]
    },
    {
      "cell_type": "markdown",
      "metadata": {
        "id": "iN90tHBx823X"
      },
      "source": [
        "###**Fighter Planes - Part 3**"
      ]
    },
    {
      "cell_type": "markdown",
      "metadata": {
        "id": "n_p9PvZy8482"
      },
      "source": [
        "What conclusions can we draw from your analysis? Where should the plane be reinforced so that more planes return from missions? Was there a relationship between the total damage and planes returning?"
      ]
    },
    {
      "cell_type": "markdown",
      "metadata": {
        "id": "KfJUsitX88QP"
      },
      "source": [
        "\n",
        "we should apply more armor to the middle because if an anti-aircraft turret hits the middle (with the pilot), it should be armored so the pilot has a better chance at surviving and the middle should not be damaged hard. fuel effiecency would decrease due to the weight of the armor on the plane\n",
        "\n",
        "\n",
        "\n",
        "other answer (isnt mine):\n",
        "This data illustrates what's known as survivorship bias. While initially one might consider reinforcing the areas of the planes that were damaged from the returned planes, the damage on the returned planes illustrates where they can be damaged and still return. Meanwhile when analyzing those planes that were found in the ocean, it is clear that damage to the front and middle clusters was likely what caused them to not return and should be reinforced. Engineers who design planes have to consider how weight impacts fuel efficiency, speed, and maneuverability. While ideally you would design a plane that is fully reinforced, a balance should be found between reinforcement and other performance metrics. While there was a slight discrepancy in the total damage between the two groups (129 - returned, 122 - ocean), we cannot conclude that total damage is correlated with a planes' chance of returning, but more likely location of damage.\n"
      ]
    }
  ]
}